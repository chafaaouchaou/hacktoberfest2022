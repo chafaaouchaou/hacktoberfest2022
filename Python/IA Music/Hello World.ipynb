{
 "cells": [
  {
   "cell_type": "code",
   "execution_count": 56,
   "id": "bbebb65c",
   "metadata": {},
   "outputs": [
    {
     "data": {
      "text/plain": [
       "0.75"
      ]
     },
     "execution_count": 56,
     "metadata": {},
     "output_type": "execute_result"
    }
   ],
   "source": [
    "import pandas as pd\n",
    "from sklearn.tree import DecisionTreeClassifier\n",
    "from sklearn.model_selection import train_test_split\n",
    "from sklearn.metrics import accuracy_score \n",
    "\n",
    "mc = pd.read_csv(\"music.csv\")\n",
    "X=mc.drop(columns=[\"genre\"])\n",
    "y=mc.drop(columns=[\"age\",\"gender\"])\n",
    "\n",
    "X_train , X_test , y_train , y_test = train_test_split(X,y,test_size=0.2)\n",
    "\n",
    "model = DecisionTreeClassifier()\n",
    "model.fit(X_train,y_train)\n",
    "\n",
    "predictions = model.predict(X_test)\n",
    "\n",
    "scor=accuracy_score(y_test,predictions)\n",
    "\n",
    "scor"
   ]
  },
  {
   "cell_type": "code",
   "execution_count": 61,
   "id": "2d1dee2a",
   "metadata": {},
   "outputs": [
    {
     "data": {
      "text/plain": [
       "['patataMusicRecomander.joblib']"
      ]
     },
     "execution_count": 61,
     "metadata": {},
     "output_type": "execute_result"
    }
   ],
   "source": [
    "import pandas as pd\n",
    "from sklearn.tree import DecisionTreeClassifier\n",
    "import joblib\n",
    "mc = pd.read_csv(\"music.csv\")\n",
    "X=mc.drop(columns=[\"genre\"])\n",
    "y=mc.drop(columns=[\"age\",\"gender\"])\n",
    "\n",
    "\n",
    "\n",
    "model = DecisionTreeClassifier()\n",
    "model.fit(X,y)\n",
    "\n",
    "joblib.dump(model,'patataMusicRecomander.joblib')\n",
    "\n",
    "# predictions = model.predict([[1,1]])\n",
    "# predictions\n"
   ]
  },
  {
   "cell_type": "code",
   "execution_count": 65,
   "id": "a8879365",
   "metadata": {},
   "outputs": [
    {
     "name": "stderr",
     "output_type": "stream",
     "text": [
      "C:\\Users\\utic\\anaconda3\\lib\\site-packages\\sklearn\\base.py:450: UserWarning: X does not have valid feature names, but DecisionTreeClassifier was fitted with feature names\n",
      "  warnings.warn(\n"
     ]
    },
    {
     "data": {
      "text/plain": [
       "array(['Classical'], dtype=object)"
      ]
     },
     "execution_count": 65,
     "metadata": {},
     "output_type": "execute_result"
    }
   ],
   "source": [
    "import joblib\n",
    "model=joblib.load('patataMusicRecomander.joblib')\n",
    "predictions = model.predict([[31,1]])\n",
    "predictions"
   ]
  },
  {
   "cell_type": "code",
   "execution_count": 82,
   "id": "62293b0e",
   "metadata": {},
   "outputs": [],
   "source": [
    "import pandas as pd\n",
    "from sklearn.tree import DecisionTreeClassifier\n",
    "from sklearn import tree\n",
    "\n",
    "mc = pd.read_csv(\"music.csv\")\n",
    "X=mc.drop(columns=[\"genre\"])\n",
    "y=mc.drop(columns=[\"age\",\"gender\"])\n",
    "\n",
    "\n",
    "\n",
    "model = DecisionTreeClassifier()\n",
    "model.fit(X,y)\n",
    "z=['Acoustic','Classical','Dance','HipHop','Jazz']\n",
    "\n",
    "\n",
    "# export_graphviz(model, 'tree.dot', feature_names = FEATURE_NAMES)\n",
    "\n",
    "tree.export_graphviz(model,'musicRecomanderGraph.dot',feature_names=['age','gender']\n",
    "                     ,\n",
    "\n",
    "                     label='all',\n",
    "                     rounded=True,\n",
    "                     filled=True,\n",
    "                                          class_names=[\"1\",\"2\",'3'3'],\n",
    "\n",
    "                    )\n",
    "\n"
   ]
  }
 ],
 "metadata": {
  "kernelspec": {
   "display_name": "Python 3 (ipykernel)",
   "language": "python",
   "name": "python3"
  },
  "language_info": {
   "codemirror_mode": {
    "name": "ipython",
    "version": 3
   },
   "file_extension": ".py",
   "mimetype": "text/x-python",
   "name": "python",
   "nbconvert_exporter": "python",
   "pygments_lexer": "ipython3",
   "version": "3.9.12"
  }
 },
 "nbformat": 4,
 "nbformat_minor": 5
}
